{
 "cells": [
  {
   "cell_type": "code",
   "execution_count": 3,
   "id": "196aa5f3",
   "metadata": {},
   "outputs": [],
   "source": [
    "import pandas as pd\n",
    "import matplotlib.pyplot as plt\n",
    "\n",
    "\n",
    "%matplotlib inline"
   ]
  },
  {
   "cell_type": "code",
   "execution_count": 4,
   "id": "bc9e1a03",
   "metadata": {},
   "outputs": [],
   "source": [
    "sc = pd.read_csv(\"~/Desktop/metis_data_camp/Regression/Project/zillow_sc.csv\")\n",
    "sf = pd.read_csv(\"~/Desktop/metis_data_camp/Regression/Project/zillow_sf.csv\")\n",
    "sj = pd.read_csv(\"~/Desktop/metis_data_camp/Regression/Project/zillow_sj.csv\")\n",
    "sv = pd.read_csv(\"~/Desktop/metis_data_camp/Regression/Project/zillow_sv.csv\")\n",
    "\n",
    "\n",
    "sc_other = pd.read_csv(\"~/Desktop/metis_data_camp/Regression/Project/house_sc_info.csv\")\n",
    "sf_other = pd.read_csv(\"~/Desktop/metis_data_camp/Regression/Project/house_sf_info.csv\")\n",
    "sj_other = pd.read_csv(\"~/Desktop/metis_data_camp/Regression/Project/house_sj_info.csv\")\n",
    "sv_other = pd.read_csv(\"~/Desktop/metis_data_camp/Regression/Project/house_sv_info.csv\")\n"
   ]
  },
  {
   "cell_type": "code",
   "execution_count": 5,
   "id": "bc81e41f",
   "metadata": {},
   "outputs": [
    {
     "name": "stdout",
     "output_type": "stream",
     "text": [
      "(1054, 7) (1054, 3) (1054, 10)\n"
     ]
    }
   ],
   "source": [
    "df1 = pd.concat([sf, sj, sv, sc])\n",
    "df1.drop(['Unnamed: 0'], axis =1, inplace = True)\n",
    "\n",
    "df2 = pd.concat([sf_other, sj_other, sv_other, sc_other])\n",
    "df2.drop(['Unnamed: 0'], axis =1, inplace = True)\n",
    "\n",
    "df = pd.concat([df1, df2], axis=1)\n",
    "print(df1.shape, df2.shape, df.shape)\n"
   ]
  },
  {
   "cell_type": "code",
   "execution_count": 6,
   "id": "72ed2853",
   "metadata": {},
   "outputs": [],
   "source": [
    "df.index = list(range(df.shape[0]))\n"
   ]
  },
  {
   "cell_type": "code",
   "execution_count": 7,
   "id": "3fb68543",
   "metadata": {},
   "outputs": [],
   "source": [
    "df_temp= df[\"rating\"].str.split(',', 2, expand = True)\n",
    "df_temp[3] = df_temp[0].str.split(\"'\", 3, expand = True)[1]\n",
    "df_temp[4] = df_temp[1].str.split(\"'\", 3, expand = True)[1]\n",
    "df_temp[5] = df_temp[2].str.split(\"'\", 3, expand = True)[1]\n",
    "df_temp= df_temp.drop([0, 1, 2], axis = 1)\n",
    "df_temp=df_temp.fillna(0)\n",
    "df_temp = df_temp.replace(['NA'], 0)\n",
    "df_temp =df_temp.astype(int)\n",
    "df[\"school_rating\"] = round((df_temp[3]+df_temp[4]+df_temp[5])/3,1)"
   ]
  },
  {
   "cell_type": "code",
   "execution_count": 8,
   "id": "5609fb5d",
   "metadata": {},
   "outputs": [],
   "source": [
    "df[\"year\"] = df[\"year\"].str.split(' ', 2, expand=True)[2]\n",
    "df[\"garage\"] = df[\"garage\"].str.split(' ', 0, expand=True)[0]\n",
    "df['bathrooms'] = df['bathrooms'].replace(['--'], np.nan)\n",
    "df['bedrooms'] = df['bedrooms'].replace(['--'], np.nan)\n",
    "df['sizes'] = df['sizes'].replace(['--'], np.nan)\n",
    "df['bedrooms'] = df['bedrooms'].replace(['Studio'], 0)\n",
    "df[\"city\"] = df.addresses.str.split(\",\", n = 2, expand = True)[1]"
   ]
  },
  {
   "cell_type": "code",
   "execution_count": 9,
   "id": "b062e80a",
   "metadata": {},
   "outputs": [
    {
     "name": "stderr",
     "output_type": "stream",
     "text": [
      "/var/folders/rg/kpn3fy794p9cgdns5sjmpzr80000gp/T/ipykernel_66334/447661744.py:4: SettingWithCopyWarning: \n",
      "A value is trying to be set on a copy of a slice from a DataFrame\n",
      "\n",
      "See the caveats in the documentation: https://pandas.pydata.org/pandas-docs/stable/user_guide/indexing.html#returning-a-view-versus-a-copy\n",
      "  df['year'][i] = np.nan\n"
     ]
    }
   ],
   "source": [
    "for i in range(len(df['year'])):\n",
    "    if type(df['year'][i]) != float:\n",
    "        if len(df['year'][i]) >5:\n",
    "            df['year'][i] = np.nan"
   ]
  },
  {
   "cell_type": "code",
   "execution_count": 10,
   "id": "f4b8534b",
   "metadata": {},
   "outputs": [
    {
     "name": "stderr",
     "output_type": "stream",
     "text": [
      "/var/folders/rg/kpn3fy794p9cgdns5sjmpzr80000gp/T/ipykernel_66334/3780446706.py:4: SettingWithCopyWarning: \n",
      "A value is trying to be set on a copy of a slice from a DataFrame\n",
      "\n",
      "See the caveats in the documentation: https://pandas.pydata.org/pandas-docs/stable/user_guide/indexing.html#returning-a-view-versus-a-copy\n",
      "  df['garage'][i] = 0\n"
     ]
    }
   ],
   "source": [
    "for i in range(len(df['garage'])):\n",
    "    if type(df['garage'][i]) != float:\n",
    "        if len(df['garage'][i]) > 5 or float(df['garage'][i])>5:\n",
    "            df['garage'][i] = 0"
   ]
  },
  {
   "cell_type": "code",
   "execution_count": 11,
   "id": "1ce943ee",
   "metadata": {},
   "outputs": [],
   "source": [
    "df['year']=df['year'].astype(float)\n",
    "df['garage']=df['garage'].astype(float)\n",
    "df['bedrooms']=df['bedrooms'].astype(float)\n",
    "df['bathrooms'] =df['bathrooms'].astype(float)\n",
    "df['sizes']=df['sizes'].astype(float)\n",
    "df['prices']=df['prices'].astype(float)\n",
    "df['ages']=(df['year'].astype(float)-min(df['year'].astype(float)))\n",
    "df.garage.replace([np.nan], 0, inplace = True)"
   ]
  },
  {
   "cell_type": "code",
   "execution_count": 12,
   "id": "0f374e6d",
   "metadata": {},
   "outputs": [],
   "source": [
    "df = df.dropna()"
   ]
  },
  {
   "cell_type": "code",
   "execution_count": 13,
   "id": "33efbba7",
   "metadata": {},
   "outputs": [],
   "source": [
    "df.index = list(range(df.shape[0])) "
   ]
  },
  {
   "cell_type": "code",
   "execution_count": 14,
   "id": "9b5cf7ba",
   "metadata": {},
   "outputs": [
    {
     "name": "stderr",
     "output_type": "stream",
     "text": [
      "/var/folders/rg/kpn3fy794p9cgdns5sjmpzr80000gp/T/ipykernel_66334/3516688341.py:1: FutureWarning: In a future version of pandas all arguments of DataFrame.drop except for the argument 'labels' will be keyword-only.\n",
      "  df.drop(['addresses', 'links', 'rating', 'year'], 1, inplace = True)\n"
     ]
    }
   ],
   "source": [
    "df.drop(['addresses', 'links', 'rating', 'year'], 1, inplace = True)\n"
   ]
  },
  {
   "cell_type": "code",
   "execution_count": 15,
   "id": "ee314b9a",
   "metadata": {},
   "outputs": [],
   "source": [
    "df =df[df.prices < 3_000_000]\n",
    "df =df[df.sizes < 3_000]"
   ]
  },
  {
   "cell_type": "code",
   "execution_count": 16,
   "id": "ecb6d655",
   "metadata": {},
   "outputs": [],
   "source": [
    "df.index = list(range(df.shape[0]))"
   ]
  },
  {
   "cell_type": "code",
   "execution_count": 17,
   "id": "95d61829",
   "metadata": {},
   "outputs": [],
   "source": [
    "df.to_csv(\"~/desktop/metis_data_camp/Regression/Project/zillow_table.csv\")"
   ]
  },
  {
   "cell_type": "code",
   "execution_count": null,
   "id": "015063a2",
   "metadata": {},
   "outputs": [],
   "source": []
  }
 ],
 "metadata": {
  "kernelspec": {
   "display_name": "Python [conda env:metis] *",
   "language": "python",
   "name": "conda-env-metis-py"
  },
  "language_info": {
   "codemirror_mode": {
    "name": "ipython",
    "version": 3
   },
   "file_extension": ".py",
   "mimetype": "text/x-python",
   "name": "python",
   "nbconvert_exporter": "python",
   "pygments_lexer": "ipython3",
   "version": "3.9.10"
  }
 },
 "nbformat": 4,
 "nbformat_minor": 5
}
