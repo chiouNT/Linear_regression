{
 "cells": [
  {
   "cell_type": "code",
   "execution_count": 1,
   "id": "e466f6cf",
   "metadata": {},
   "outputs": [],
   "source": [
    "import os\n",
    "from bs4 import BeautifulSoup\n",
    "from selenium import webdriver\n",
    "###from selenium.webdriver.common.keys import Keys\n",
    "###from selenium.webdriver.common.by import By\n",
    "import time, random\n",
    "import sys\n",
    "import numpy as np\n",
    "import pandas as pd\n",
    "import regex as re\n",
    "####from webdriver_manager.chrome import ChromeDriverManager\n",
    "###from selenium.webdriver.support.ui import WebDriverWait\n",
    "###from selenium.webdriver.support import expected_conditions as EC"
   ]
  },
  {
   "cell_type": "code",
   "execution_count": 38,
   "id": "9abc8df3",
   "metadata": {},
   "outputs": [
    {
     "name": "stderr",
     "output_type": "stream",
     "text": [
      "/var/folders/rg/kpn3fy794p9cgdns5sjmpzr80000gp/T/ipykernel_5122/4184269996.py:6: DeprecationWarning: executable_path has been deprecated, please pass in a Service object\n",
      "  driver = webdriver.Chrome(chromedriver)\n"
     ]
    }
   ],
   "source": [
    "soups = []\n",
    "for i in range(10):\n",
    "    chromedriver = \"/Applications/chromedriver\"\n",
    "    os.environ[\"webdriver.chrome.driver\"] = \\\n",
    "    chromedriver\n",
    "    driver = webdriver.Chrome(chromedriver)\n",
    "    driver.get(\"https://www.zillow.com/homes/san-jose-ca/{}_p\".format(i+1))\n",
    "    time.sleep(20)\n",
    "    soup = BeautifulSoup(driver.page_source, 'html.parser')\n",
    "    soups.append(soup)\n",
    "    \n",
    "   \n",
    "###driver.execute_script(\"return arguments[0].scrollIntoView(true);\", WebDriverWait(driver, 20).until(EC.visibility_of_element_located((By.XPATH, \"//div[@class='search-pagination']\"))))\n"
   ]
  },
  {
   "cell_type": "code",
   "execution_count": 137,
   "id": "d45a55b7",
   "metadata": {},
   "outputs": [
    {
     "name": "stderr",
     "output_type": "stream",
     "text": [
      "/var/folders/rg/kpn3fy794p9cgdns5sjmpzr80000gp/T/ipykernel_5122/1443128525.py:6: DeprecationWarning: executable_path has been deprecated, please pass in a Service object\n",
      "  driver = webdriver.Chrome(chromedriver)\n"
     ]
    }
   ],
   "source": [
    "soups_sf = []\n",
    "for i in range(15):\n",
    "    chromedriver = \"/Applications/chromedriver\"\n",
    "    os.environ[\"webdriver.chrome.driver\"] = \\\n",
    "    chromedriver\n",
    "    driver = webdriver.Chrome(chromedriver)\n",
    "    driver.get(\"https://www.zillow.com/homes/san-francisco-ca/{}_p\".format(i+1))\n",
    "    time.sleep(20)\n",
    "    soup = BeautifulSoup(driver.page_source, 'html.parser')\n",
    "    soups_sf.append(soup)"
   ]
  },
  {
   "cell_type": "code",
   "execution_count": 179,
   "id": "4824fd9e",
   "metadata": {},
   "outputs": [
    {
     "name": "stderr",
     "output_type": "stream",
     "text": [
      "/var/folders/rg/kpn3fy794p9cgdns5sjmpzr80000gp/T/ipykernel_5122/1987635416.py:6: DeprecationWarning: executable_path has been deprecated, please pass in a Service object\n",
      "  driver = webdriver.Chrome(chromedriver)\n"
     ]
    }
   ],
   "source": [
    "soups_sc = []\n",
    "for i in range(2):\n",
    "    chromedriver = \"/Applications/chromedriver\"\n",
    "    os.environ[\"webdriver.chrome.driver\"] = \\\n",
    "    chromedriver\n",
    "    driver = webdriver.Chrome(chromedriver)\n",
    "    driver.get(\"https://www.zillow.com/homes/santa-clara-ca/{}_p\".format(i+1))\n",
    "    time.sleep(20)\n",
    "    soup = BeautifulSoup(driver.page_source, 'html.parser')\n",
    "    soups_sc.append(soup)"
   ]
  },
  {
   "cell_type": "code",
   "execution_count": 182,
   "id": "6eba7e3b",
   "metadata": {},
   "outputs": [
    {
     "name": "stderr",
     "output_type": "stream",
     "text": [
      "/var/folders/rg/kpn3fy794p9cgdns5sjmpzr80000gp/T/ipykernel_5122/2015343878.py:6: DeprecationWarning: executable_path has been deprecated, please pass in a Service object\n",
      "  driver = webdriver.Chrome(chromedriver)\n"
     ]
    }
   ],
   "source": [
    "soups_sv = []\n",
    "for i in range(3):\n",
    "    chromedriver = \"/Applications/chromedriver\"\n",
    "    os.environ[\"webdriver.chrome.driver\"] = \\\n",
    "    chromedriver\n",
    "    driver = webdriver.Chrome(chromedriver)\n",
    "    driver.get(\"https://www.zillow.com/homes/sunnyvale-ca/{}_p\".format(i+1))\n",
    "    time.sleep(20)\n",
    "    soup = BeautifulSoup(driver.page_source, 'html.parser')\n",
    "    soups_sv.append(soup)"
   ]
  },
  {
   "cell_type": "code",
   "execution_count": null,
   "id": "cd41689b",
   "metadata": {},
   "outputs": [],
   "source": []
  },
  {
   "cell_type": "code",
   "execution_count": 218,
   "id": "a31c9fa7",
   "metadata": {},
   "outputs": [],
   "source": [
    "def get_bedroom(soup):\n",
    "    bedrooms = []\n",
    "    for i in range(len(soup.find_all(\"ul\", class_=\"list-card-details\"))):\n",
    "        details = soup.find_all(\"ul\", class_=\"list-card-details\")[i]\n",
    "        try:\n",
    "            if details.find(text = 'bds') == 'bds':\n",
    "                bedroom = details.find(text = 'bds').parent.parent.text\n",
    "                bedroom = bedroom.split()[0]\n",
    "            if details.find(text = 'Studio') == 'Studio':\n",
    "                bedroom = details.find(text = 'Studio')\n",
    "            elif details.find(text = 'bd') == 'bd':\n",
    "                bedroom = details.find(text = 'bd').parent.parent.text\n",
    "                bedroom = bedroom.split()[0]\n",
    "            bedrooms.append(bedroom)\n",
    "        except:\n",
    "            bedrooms.append(np.nan)\n",
    "    return bedrooms\n",
    "\n",
    "\n",
    "def get_bathroom(soup):\n",
    "    bathrooms = []\n",
    "    for i in range(len(soup.find_all(\"ul\", class_=\"list-card-details\"))):\n",
    "        details = soup.find_all(\"ul\", class_=\"list-card-details\")[i]\n",
    "        try:\n",
    "            if details.find(text = 'bds') == 'bds':\n",
    "                bathroom = details.find(text = 'bds').next.next.text\n",
    "            if details.find(text = 'Studio') == 'Studio':\n",
    "                bathroom = details.find(text = 'Studio').next.next.text\n",
    "            elif details.find(text = 'bd') == 'bd':\n",
    "                bathroom = details.find(text = 'bd').next.next.text\n",
    "            bathrooms.append(bathroom)\n",
    "        except:\n",
    "            bathrooms.append(np.nan)\n",
    "    return bathrooms\n",
    "\n",
    "\n",
    "def get_size(soup):\n",
    "    sizes = []\n",
    "    for i in range(len(soup.find_all(\"ul\", class_=\"list-card-details\"))):\n",
    "        details = soup.find_all(\"ul\", class_=\"list-card-details\")[i]\n",
    "        try:\n",
    "            if details.find(text = 'sqft') == 'sqft':\n",
    "                size = details.find(text = 'sqft').parent.parent.text\n",
    "                size = size.split()[0]\n",
    "                size = size.replace(\",\", \"\")\n",
    "                size = int(size)\n",
    "            elif details.find(text = ' sqft') == ' sqft':\n",
    "                size = details.find(text = ' sqft').parent.parent.text\n",
    "                size = size.split()[0]\n",
    "                size = size.replace(\",\", \"\")\n",
    "                size = int(size)\n",
    "            sizes.append(size)\n",
    "        except:\n",
    "            sizes.append(np.nan)\n",
    "    return  sizes    \n",
    "    \n",
    "\n",
    "def get_link(soup):\n",
    "    links = []\n",
    "    for item in soup.find_all(class_= 'list-card-link list-card-link-top-margin'):\n",
    "        try:\n",
    "            link = item.get('href')\n",
    "            links.append(link)\n",
    "        except:\n",
    "            links.append(np.nan)\n",
    "    return links\n",
    "\n",
    "def get_address(soup):\n",
    "    addresses = []\n",
    "    for item in soup.find_all(class_= 'list-card-addr'):\n",
    "        try:\n",
    "            address = item.text\n",
    "            addresses.append(address)\n",
    "        except:\n",
    "            addresses.append(np.nan)\n",
    "    return addresses    \n",
    "\n",
    "def get_price(soup):\n",
    "    prices = []\n",
    "    for item in soup.find_all(class_= 'list-card-price'):\n",
    "        try:\n",
    "            price = item.text\n",
    "            price = price.replace(\"$\", \"\")\n",
    "            price = price.replace(\",\", \"\")\n",
    "            price = int(price)\n",
    "            prices.append(price)\n",
    "        except:\n",
    "            prices.append(np.nan)\n",
    "    return prices \n",
    "\n",
    "def get_hometype(soup):\n",
    "    hometypes = []\n",
    "    for item in soup.find_all(class_=\"list-card-statusText\"):\n",
    "        try:\n",
    "            hometype = item.text\n",
    "            hometype = hometype.split()[1]\n",
    "            hometypes.append(hometype)\n",
    "        except:\n",
    "            hometypes.append(np.nan)\n",
    "    return hometypes \n",
    "\n"
   ]
  },
  {
   "cell_type": "code",
   "execution_count": 219,
   "id": "a3d49e30",
   "metadata": {},
   "outputs": [],
   "source": [
    "def houses(soup):\n",
    "    houses = []\n",
    "    for i in range(len(soup)):\n",
    "        house = {\n",
    "            'addresses': get_address(soup[i]), \n",
    "            'prices': get_price(soup[i]), \n",
    "            'hometypes': get_hometype(soup[i]),\n",
    "            'bathrooms': get_bathroom(soup[i]),\n",
    "            'bedrooms': get_bedroom(soup[i]),\n",
    "            'sizes': get_size(soup[i]),\n",
    "            'links': get_link(soup[i])\n",
    "        }\n",
    "        houses.append(pd.DataFrame(house))\n",
    "    df = pd.concat(houses)\n",
    "    return df\n",
    "\n",
    "\n",
    "\n",
    "\n",
    "\n"
   ]
  },
  {
   "cell_type": "code",
   "execution_count": 220,
   "id": "a057b6a6",
   "metadata": {},
   "outputs": [],
   "source": [
    "df_sj = houses(soups)\n",
    "df_sf = houses(soups_sf)\n",
    "df_sc = houses(soups_sc)\n",
    "df_sv = houses(soups_sv)"
   ]
  },
  {
   "cell_type": "code",
   "execution_count": 221,
   "id": "55ba232a",
   "metadata": {},
   "outputs": [],
   "source": [
    "df_sj.to_csv(\"~/desktop/metis_data_camp/zillow_sj.csv\")\n",
    "df_sf.to_csv(\"~/desktop/metis_data_camp/zillow_sf.csv\")\n",
    "df_sc.to_csv(\"~/desktop/metis_data_camp/zillow_sc.csv\")\n",
    "df_sv.to_csv(\"~/desktop/metis_data_camp/zillow_sv.csv\")"
   ]
  },
  {
   "cell_type": "code",
   "execution_count": 222,
   "id": "9d0fbe39",
   "metadata": {},
   "outputs": [
    {
     "name": "stdout",
     "output_type": "stream",
     "text": [
      "(336, 7)\n",
      "(555, 7)\n",
      "(64, 7)\n",
      "(99, 7)\n"
     ]
    }
   ],
   "source": [
    "print(df_sj.shape)\n",
    "print(df_sf.shape)\n",
    "print(df_sc.shape)\n",
    "print(df_sv.shape)"
   ]
  },
  {
   "cell_type": "code",
   "execution_count": 223,
   "id": "2de7f099",
   "metadata": {},
   "outputs": [],
   "source": [
    "df = pd.read_csv(\"~/desktop/metis_data_camp/zillow_sj.csv\")"
   ]
  },
  {
   "cell_type": "code",
   "execution_count": null,
   "id": "4a90339e",
   "metadata": {},
   "outputs": [],
   "source": []
  },
  {
   "cell_type": "code",
   "execution_count": null,
   "id": "cae52f03",
   "metadata": {},
   "outputs": [],
   "source": []
  }
 ],
 "metadata": {
  "kernelspec": {
   "display_name": "Python [conda env:metis] *",
   "language": "python",
   "name": "conda-env-metis-py"
  },
  "language_info": {
   "codemirror_mode": {
    "name": "ipython",
    "version": 3
   },
   "file_extension": ".py",
   "mimetype": "text/x-python",
   "name": "python",
   "nbconvert_exporter": "python",
   "pygments_lexer": "ipython3",
   "version": "3.9.10"
  }
 },
 "nbformat": 4,
 "nbformat_minor": 5
}
