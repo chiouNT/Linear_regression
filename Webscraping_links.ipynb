{
 "cells": [
  {
   "cell_type": "code",
   "execution_count": 40,
   "id": "6cfc629e",
   "metadata": {},
   "outputs": [],
   "source": [
    "import os\n",
    "from bs4 import BeautifulSoup\n",
    "from selenium import webdriver\n",
    "###from selenium.webdriver.common.keys import Keys\n",
    "###from selenium.webdriver.common.by import By\n",
    "import time, random\n",
    "import sys\n",
    "import numpy as np\n",
    "import pandas as pd\n",
    "import regex as re"
   ]
  },
  {
   "cell_type": "code",
   "execution_count": 17,
   "id": "02488aa2",
   "metadata": {},
   "outputs": [
    {
     "name": "stderr",
     "output_type": "stream",
     "text": [
      "/var/folders/rg/kpn3fy794p9cgdns5sjmpzr80000gp/T/ipykernel_20911/2132605784.py:6: DeprecationWarning: executable_path has been deprecated, please pass in a Service object\n",
      "  driver = webdriver.Chrome(chromedriver)\n"
     ]
    }
   ],
   "source": [
    "soups = []\n",
    "for i in range(1):\n",
    "    chromedriver = \"/Applications/chromedriver\"\n",
    "    os.environ[\"webdriver.chrome.driver\"] = \\\n",
    "    chromedriver\n",
    "    driver = webdriver.Chrome(chromedriver)\n",
    "    driver.get(\"https://www.zillow.com/homes/san-jose-ca/{}_p\".format(i+1))\n",
    "    time.sleep(1 + 2*random.random())\n",
    "    soup = BeautifulSoup(driver.page_source, 'html.parser')\n",
    "    soups.append(soup)\n"
   ]
  },
  {
   "cell_type": "code",
   "execution_count": 87,
   "id": "87ae6569",
   "metadata": {},
   "outputs": [],
   "source": [
    "sf = pd.read_csv(\"~/Desktop/metis_data_camp/zillow_sf.csv\")"
   ]
  },
  {
   "cell_type": "code",
   "execution_count": 89,
   "id": "48b61fcb",
   "metadata": {},
   "outputs": [
    {
     "data": {
      "text/plain": [
       "555"
      ]
     },
     "execution_count": 89,
     "metadata": {},
     "output_type": "execute_result"
    }
   ],
   "source": [
    "Links = sf.links.to_list()\n",
    "len(Links)"
   ]
  },
  {
   "cell_type": "code",
   "execution_count": 75,
   "id": "ec631339",
   "metadata": {},
   "outputs": [],
   "source": [
    "###def get_link(soup):\n",
    "###links = []\n",
    "###    for item in soup.find_all(class_= 'list-card-link list-card-link-top-margin'):\n",
    "###        links.append(item.get('href'))\n",
    "###    return links\n",
    "###Links = get_link(soups[0])\n",
    "###Links"
   ]
  },
  {
   "cell_type": "code",
   "execution_count": 90,
   "id": "0d93231e",
   "metadata": {},
   "outputs": [],
   "source": [
    "def get_garage(soup):\n",
    "    try:\n",
    "        garage = soup.find(text=re.compile('[G/g]arage space'))\n",
    "        return garage\n",
    "    except:\n",
    "        return None\n",
    "    \n",
    "def get_year(soup):\n",
    "    try:\n",
    "        year = soup.find(text=re.compile('Built in'))\n",
    "        return year\n",
    "    except:\n",
    "        return None\n",
    "\n",
    "def get_rating(soup):\n",
    "    try:\n",
    "        rating = []\n",
    "        for i in soup.find(id=\"ds-nearby-schools-list\").find_all(class_=\"Text-c11n-8-63-0__sc-aiai24-0 kHCdln\"):\n",
    "            rating.append(i.text)\n",
    "        return rating\n",
    "    except:\n",
    "        return None\n",
    "    \n",
    "def other_info(Links):\n",
    "    garages = []\n",
    "    years = []\n",
    "    ratings = []\n",
    "    for i in range(len(Links)):\n",
    "        chromedriver = \"/Applications/chromedriver\"\n",
    "        os.environ[\"webdriver.chrome.driver\"] = chromedriver\n",
    "        driver = webdriver.Chrome(chromedriver)\n",
    "        driver.get(Links[i])\n",
    "        time.sleep(10 + 2*random.random())\n",
    "        \n",
    "        soup = BeautifulSoup(driver.page_source, 'html.parser')\n",
    "\n",
    "        garages.append(get_garage(soup))\n",
    "        years.append(get_year(soup))\n",
    "        ratings.append(get_rating(soup))\n",
    "        \n",
    "        if i % 5 == 0:\n",
    "            Dict = {\"garage\" : garages,\n",
    "                    \"year\" : years,\n",
    "                    \"rating\" : ratings,\n",
    "                   }\n",
    "            df = pd.DataFrame(Dict)\n",
    "            df.to_csv(\"~/desktop/house_sf_info.csv\")\n",
    "\n",
    "    \n",
    "    Dict = {\"garage\" : garages,\n",
    "            \"year\" : years,\n",
    "            \"rating\" : ratings,\n",
    "           }\n",
    "    df = pd.DataFrame(Dict)\n",
    "    df.to_csv(\"~/desktop/house_sf_info.csv\")\n",
    "    return df"
   ]
  },
  {
   "cell_type": "code",
   "execution_count": 91,
   "id": "4e4974da",
   "metadata": {},
   "outputs": [
    {
     "name": "stderr",
     "output_type": "stream",
     "text": [
      "/var/folders/rg/kpn3fy794p9cgdns5sjmpzr80000gp/T/ipykernel_20911/1279990990.py:31: DeprecationWarning: executable_path has been deprecated, please pass in a Service object\n",
      "  driver = webdriver.Chrome(chromedriver)\n"
     ]
    },
    {
     "data": {
      "text/html": [
       "<div>\n",
       "<style scoped>\n",
       "    .dataframe tbody tr th:only-of-type {\n",
       "        vertical-align: middle;\n",
       "    }\n",
       "\n",
       "    .dataframe tbody tr th {\n",
       "        vertical-align: top;\n",
       "    }\n",
       "\n",
       "    .dataframe thead th {\n",
       "        text-align: right;\n",
       "    }\n",
       "</style>\n",
       "<table border=\"1\" class=\"dataframe\">\n",
       "  <thead>\n",
       "    <tr style=\"text-align: right;\">\n",
       "      <th></th>\n",
       "      <th>garage</th>\n",
       "      <th>year</th>\n",
       "      <th>rating</th>\n",
       "    </tr>\n",
       "  </thead>\n",
       "  <tbody>\n",
       "    <tr>\n",
       "      <th>0</th>\n",
       "      <td>2 Attached garage spaces</td>\n",
       "      <td>Built in 1922</td>\n",
       "      <td>[9, 8, 3]</td>\n",
       "    </tr>\n",
       "    <tr>\n",
       "      <th>1</th>\n",
       "      <td>1 Garage space</td>\n",
       "      <td>Built in 1958</td>\n",
       "      <td>[7, NA]</td>\n",
       "    </tr>\n",
       "    <tr>\n",
       "      <th>2</th>\n",
       "      <td>None</td>\n",
       "      <td>Built in 2016</td>\n",
       "      <td>[5, 3, 2]</td>\n",
       "    </tr>\n",
       "    <tr>\n",
       "      <th>3</th>\n",
       "      <td>1 Garage space</td>\n",
       "      <td>Built in 2016</td>\n",
       "      <td>[5, 3, 2]</td>\n",
       "    </tr>\n",
       "    <tr>\n",
       "      <th>4</th>\n",
       "      <td>1 Attached garage space</td>\n",
       "      <td>Built in 1978</td>\n",
       "      <td>[NA]</td>\n",
       "    </tr>\n",
       "    <tr>\n",
       "      <th>...</th>\n",
       "      <td>...</td>\n",
       "      <td>...</td>\n",
       "      <td>...</td>\n",
       "    </tr>\n",
       "    <tr>\n",
       "      <th>550</th>\n",
       "      <td>2 Attached garage spaces</td>\n",
       "      <td>Built in 1971</td>\n",
       "      <td>[2, NA]</td>\n",
       "    </tr>\n",
       "    <tr>\n",
       "      <th>551</th>\n",
       "      <td>None</td>\n",
       "      <td>Built in 2020</td>\n",
       "      <td>[9, 7, 10]</td>\n",
       "    </tr>\n",
       "    <tr>\n",
       "      <th>552</th>\n",
       "      <td>1 Garage space</td>\n",
       "      <td>Built in 2009</td>\n",
       "      <td>[NA]</td>\n",
       "    </tr>\n",
       "    <tr>\n",
       "      <th>553</th>\n",
       "      <td>1 Garage space</td>\n",
       "      <td>Built in 2016</td>\n",
       "      <td>[4, 3, 7]</td>\n",
       "    </tr>\n",
       "    <tr>\n",
       "      <th>554</th>\n",
       "      <td>1 Garage space</td>\n",
       "      <td>Built in 1900</td>\n",
       "      <td>[6, 6, 2]</td>\n",
       "    </tr>\n",
       "  </tbody>\n",
       "</table>\n",
       "<p>555 rows × 3 columns</p>\n",
       "</div>"
      ],
      "text/plain": [
       "                       garage           year      rating\n",
       "0    2 Attached garage spaces  Built in 1922   [9, 8, 3]\n",
       "1              1 Garage space  Built in 1958     [7, NA]\n",
       "2                        None  Built in 2016   [5, 3, 2]\n",
       "3              1 Garage space  Built in 2016   [5, 3, 2]\n",
       "4     1 Attached garage space  Built in 1978        [NA]\n",
       "..                        ...            ...         ...\n",
       "550  2 Attached garage spaces  Built in 1971     [2, NA]\n",
       "551                      None  Built in 2020  [9, 7, 10]\n",
       "552            1 Garage space  Built in 2009        [NA]\n",
       "553            1 Garage space  Built in 2016   [4, 3, 7]\n",
       "554            1 Garage space  Built in 1900   [6, 6, 2]\n",
       "\n",
       "[555 rows x 3 columns]"
      ]
     },
     "execution_count": 91,
     "metadata": {},
     "output_type": "execute_result"
    }
   ],
   "source": [
    "other_info(Links)"
   ]
  },
  {
   "cell_type": "code",
   "execution_count": 82,
   "id": "02ca3f68",
   "metadata": {},
   "outputs": [
    {
     "data": {
      "text/plain": [
       "99"
      ]
     },
     "execution_count": 82,
     "metadata": {},
     "output_type": "execute_result"
    }
   ],
   "source": []
  },
  {
   "cell_type": "code",
   "execution_count": 59,
   "id": "99ffa826",
   "metadata": {},
   "outputs": [],
   "source": []
  },
  {
   "cell_type": "code",
   "execution_count": 100,
   "id": "a6c1d8a1",
   "metadata": {},
   "outputs": [],
   "source": []
  },
  {
   "cell_type": "code",
   "execution_count": null,
   "id": "98b6d10f",
   "metadata": {},
   "outputs": [],
   "source": []
  },
  {
   "cell_type": "code",
   "execution_count": null,
   "id": "a3f6ce08",
   "metadata": {},
   "outputs": [],
   "source": []
  },
  {
   "cell_type": "code",
   "execution_count": 230,
   "id": "71ba3078",
   "metadata": {},
   "outputs": [],
   "source": [
    "\n"
   ]
  },
  {
   "cell_type": "code",
   "execution_count": 231,
   "id": "e5af4e16",
   "metadata": {},
   "outputs": [],
   "source": []
  },
  {
   "cell_type": "code",
   "execution_count": null,
   "id": "4b6c475e",
   "metadata": {},
   "outputs": [],
   "source": [
    "\n"
   ]
  },
  {
   "cell_type": "code",
   "execution_count": null,
   "id": "de820967",
   "metadata": {},
   "outputs": [],
   "source": []
  },
  {
   "cell_type": "code",
   "execution_count": null,
   "id": "6bd4ca83",
   "metadata": {},
   "outputs": [],
   "source": []
  },
  {
   "cell_type": "code",
   "execution_count": null,
   "id": "26011b60",
   "metadata": {},
   "outputs": [],
   "source": []
  }
 ],
 "metadata": {
  "kernelspec": {
   "display_name": "Python [conda env:metis] *",
   "language": "python",
   "name": "conda-env-metis-py"
  },
  "language_info": {
   "codemirror_mode": {
    "name": "ipython",
    "version": 3
   },
   "file_extension": ".py",
   "mimetype": "text/x-python",
   "name": "python",
   "nbconvert_exporter": "python",
   "pygments_lexer": "ipython3",
   "version": "3.9.10"
  }
 },
 "nbformat": 4,
 "nbformat_minor": 5
}
